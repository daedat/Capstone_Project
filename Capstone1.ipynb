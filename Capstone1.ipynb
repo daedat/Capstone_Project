{
 "cells": [
  {
   "cell_type": "code",
   "execution_count": 2,
   "metadata": {},
   "outputs": [],
   "source": [
    "# %timeit"
   ]
  },
  {
   "cell_type": "markdown",
   "metadata": {},
   "source": [
    "### Data Science Analysis on Mental Health Survey Data (NSDUH)"
   ]
  },
  {
   "cell_type": "code",
   "execution_count": 1,
   "metadata": {},
   "outputs": [],
   "source": [
    "# Import libraries\n",
    "import pandas as pd\n",
    "import numpy as np\n",
    "import warnings\n",
    "warnings.filterwarnings('ignore')"
   ]
  },
  {
   "cell_type": "code",
   "execution_count": 2,
   "metadata": {},
   "outputs": [],
   "source": [
    "df_2018 = pd.read_csv(\"NSDUH_2018_Tab.tsv\", sep=\"\\t\", low_memory=False, encoding='unicode_escape')"
   ]
  },
  {
   "cell_type": "markdown",
   "metadata": {},
   "source": [
    "NSDUH Study Details: https://datafiles.samhsa.gov/study-dataset/nsduh-2002-2018-ds0001-nsduh-2002-2018-ds0001-nid18772"
   ]
  },
  {
   "cell_type": "markdown",
   "metadata": {},
   "source": [
    "Codebook/Documentation (p.364-586): http://samhda.s3-us-gov-west-1.amazonaws.com/s3fs-public/field-uploads-protected/studies/NSDUH-2018/NSDUH-2018-datasets/NSDUH-2018-DS0001/NSDUH-2018-DS0001-info/NSDUH-2018-DS0001-info-codebook.pdf"
   ]
  },
  {
   "cell_type": "markdown",
   "metadata": {},
   "source": [
    "\"Questions are about treatment & counseling for problems with emotions/nerves/mental health\" excluding alcohol/drug use\n",
    "\n",
    "- Adult Mental Health Treatment & Service Utilization\n",
    "- Social & Home Environment\n",
    "- Adult Depression\n",
    "- Income & Insurance\n",
    "- Employement\n",
    "- Education\n",
    "- Demographics\n",
    "- Geographics"
   ]
  },
  {
   "cell_type": "markdown",
   "metadata": {},
   "source": [
    "Dataset: National Survey taken in 2018, filed Oct. 2019"
   ]
  },
  {
   "cell_type": "markdown",
   "metadata": {},
   "source": [
    "Disclaimer: Government survey data is subjective or heterogeneous by nature with sufficient/big data to\n",
    "find interesting insights or problematic areas in mental health service utility that needs improvement."
   ]
  },
  {
   "cell_type": "code",
   "execution_count": 5,
   "metadata": {},
   "outputs": [
    {
     "data": {
      "text/html": [
       "<div>\n",
       "<style scoped>\n",
       "    .dataframe tbody tr th:only-of-type {\n",
       "        vertical-align: middle;\n",
       "    }\n",
       "\n",
       "    .dataframe tbody tr th {\n",
       "        vertical-align: top;\n",
       "    }\n",
       "\n",
       "    .dataframe thead th {\n",
       "        text-align: right;\n",
       "    }\n",
       "</style>\n",
       "<table border=\"1\" class=\"dataframe\">\n",
       "  <thead>\n",
       "    <tr style=\"text-align: right;\">\n",
       "      <th></th>\n",
       "      <th>QUESTID2</th>\n",
       "      <th>FILEDATE</th>\n",
       "      <th>CIGEVER</th>\n",
       "      <th>CIGOFRSM</th>\n",
       "      <th>CIGWILYR</th>\n",
       "      <th>CIGTRY</th>\n",
       "      <th>CIGYFU</th>\n",
       "      <th>CIGMFU</th>\n",
       "      <th>CIGREC</th>\n",
       "      <th>CIG30USE</th>\n",
       "      <th>...</th>\n",
       "      <th>POVERTY3</th>\n",
       "      <th>TOOLONG</th>\n",
       "      <th>TROUBUND</th>\n",
       "      <th>PDEN10</th>\n",
       "      <th>COUTYP4</th>\n",
       "      <th>MAIIN102</th>\n",
       "      <th>AIIND102</th>\n",
       "      <th>ANALWT_C</th>\n",
       "      <th>VESTR</th>\n",
       "      <th>VEREP</th>\n",
       "    </tr>\n",
       "  </thead>\n",
       "  <tbody>\n",
       "    <tr>\n",
       "      <th>0</th>\n",
       "      <td>11015143</td>\n",
       "      <td>10/08/2019</td>\n",
       "      <td>1</td>\n",
       "      <td>99</td>\n",
       "      <td>99</td>\n",
       "      <td>12</td>\n",
       "      <td>9999</td>\n",
       "      <td>99</td>\n",
       "      <td>1</td>\n",
       "      <td>20</td>\n",
       "      <td>...</td>\n",
       "      <td>3.0</td>\n",
       "      <td>2</td>\n",
       "      <td>2</td>\n",
       "      <td>1</td>\n",
       "      <td>1</td>\n",
       "      <td>2</td>\n",
       "      <td>2</td>\n",
       "      <td>20783.261908</td>\n",
       "      <td>40001</td>\n",
       "      <td>1</td>\n",
       "    </tr>\n",
       "    <tr>\n",
       "      <th>1</th>\n",
       "      <td>86325143</td>\n",
       "      <td>10/08/2019</td>\n",
       "      <td>2</td>\n",
       "      <td>99</td>\n",
       "      <td>99</td>\n",
       "      <td>991</td>\n",
       "      <td>9991</td>\n",
       "      <td>91</td>\n",
       "      <td>91</td>\n",
       "      <td>91</td>\n",
       "      <td>...</td>\n",
       "      <td>2.0</td>\n",
       "      <td>2</td>\n",
       "      <td>2</td>\n",
       "      <td>3</td>\n",
       "      <td>3</td>\n",
       "      <td>2</td>\n",
       "      <td>2</td>\n",
       "      <td>1095.884074</td>\n",
       "      <td>40004</td>\n",
       "      <td>1</td>\n",
       "    </tr>\n",
       "    <tr>\n",
       "      <th>2</th>\n",
       "      <td>35425143</td>\n",
       "      <td>10/08/2019</td>\n",
       "      <td>1</td>\n",
       "      <td>99</td>\n",
       "      <td>99</td>\n",
       "      <td>13</td>\n",
       "      <td>9999</td>\n",
       "      <td>99</td>\n",
       "      <td>4</td>\n",
       "      <td>93</td>\n",
       "      <td>...</td>\n",
       "      <td>3.0</td>\n",
       "      <td>2</td>\n",
       "      <td>2</td>\n",
       "      <td>2</td>\n",
       "      <td>2</td>\n",
       "      <td>2</td>\n",
       "      <td>2</td>\n",
       "      <td>374.445005</td>\n",
       "      <td>40017</td>\n",
       "      <td>2</td>\n",
       "    </tr>\n",
       "    <tr>\n",
       "      <th>3</th>\n",
       "      <td>98125143</td>\n",
       "      <td>10/08/2019</td>\n",
       "      <td>2</td>\n",
       "      <td>99</td>\n",
       "      <td>99</td>\n",
       "      <td>991</td>\n",
       "      <td>9991</td>\n",
       "      <td>91</td>\n",
       "      <td>91</td>\n",
       "      <td>91</td>\n",
       "      <td>...</td>\n",
       "      <td>2.0</td>\n",
       "      <td>2</td>\n",
       "      <td>2</td>\n",
       "      <td>2</td>\n",
       "      <td>2</td>\n",
       "      <td>2</td>\n",
       "      <td>2</td>\n",
       "      <td>2421.263435</td>\n",
       "      <td>40038</td>\n",
       "      <td>2</td>\n",
       "    </tr>\n",
       "    <tr>\n",
       "      <th>4</th>\n",
       "      <td>15945143</td>\n",
       "      <td>10/08/2019</td>\n",
       "      <td>2</td>\n",
       "      <td>99</td>\n",
       "      <td>99</td>\n",
       "      <td>991</td>\n",
       "      <td>9991</td>\n",
       "      <td>91</td>\n",
       "      <td>91</td>\n",
       "      <td>91</td>\n",
       "      <td>...</td>\n",
       "      <td>2.0</td>\n",
       "      <td>1</td>\n",
       "      <td>2</td>\n",
       "      <td>1</td>\n",
       "      <td>1</td>\n",
       "      <td>2</td>\n",
       "      <td>2</td>\n",
       "      <td>6637.319591</td>\n",
       "      <td>40040</td>\n",
       "      <td>2</td>\n",
       "    </tr>\n",
       "  </tbody>\n",
       "</table>\n",
       "<p>5 rows × 2691 columns</p>\n",
       "</div>"
      ],
      "text/plain": [
       "   QUESTID2    FILEDATE  CIGEVER  CIGOFRSM  CIGWILYR  CIGTRY  CIGYFU  CIGMFU  \\\n",
       "0  11015143  10/08/2019        1        99        99      12    9999      99   \n",
       "1  86325143  10/08/2019        2        99        99     991    9991      91   \n",
       "2  35425143  10/08/2019        1        99        99      13    9999      99   \n",
       "3  98125143  10/08/2019        2        99        99     991    9991      91   \n",
       "4  15945143  10/08/2019        2        99        99     991    9991      91   \n",
       "\n",
       "   CIGREC  CIG30USE  ...  POVERTY3  TOOLONG  TROUBUND  PDEN10  COUTYP4  \\\n",
       "0       1        20  ...       3.0        2         2       1        1   \n",
       "1      91        91  ...       2.0        2         2       3        3   \n",
       "2       4        93  ...       3.0        2         2       2        2   \n",
       "3      91        91  ...       2.0        2         2       2        2   \n",
       "4      91        91  ...       2.0        1         2       1        1   \n",
       "\n",
       "   MAIIN102  AIIND102      ANALWT_C  VESTR  VEREP  \n",
       "0         2         2  20783.261908  40001      1  \n",
       "1         2         2   1095.884074  40004      1  \n",
       "2         2         2    374.445005  40017      2  \n",
       "3         2         2   2421.263435  40038      2  \n",
       "4         2         2   6637.319591  40040      2  \n",
       "\n",
       "[5 rows x 2691 columns]"
      ]
     },
     "execution_count": 5,
     "metadata": {},
     "output_type": "execute_result"
    }
   ],
   "source": [
    "df_2018.head()"
   ]
  },
  {
   "cell_type": "markdown",
   "metadata": {},
   "source": [
    "#### Data Cleaning"
   ]
  },
  {
   "cell_type": "markdown",
   "metadata": {},
   "source": [
    "I am only interested in first two columns + all 'Adult Mental Health Service Utilization' related columns only"
   ]
  },
  {
   "cell_type": "code",
   "execution_count": 18,
   "metadata": {},
   "outputs": [
    {
     "data": {
      "text/plain": [
       "Index(['QUESTID2', 'FILEDATE', 'CIGEVER', 'CIGOFRSM', 'CIGWILYR', 'CIGTRY',\n",
       "       'CIGYFU', 'CIGMFU', 'CIGREC', 'CIG30USE',\n",
       "       ...\n",
       "       'POVERTY3', 'TOOLONG', 'TROUBUND', 'PDEN10', 'COUTYP4', 'MAIIN102',\n",
       "       'AIIND102', 'ANALWT_C', 'VESTR', 'VEREP'],\n",
       "      dtype='object', length=2691)"
      ]
     },
     "execution_count": 18,
     "metadata": {},
     "output_type": "execute_result"
    }
   ],
   "source": [
    "df_2018.columns"
   ]
  },
  {
   "cell_type": "code",
   "execution_count": 3,
   "metadata": {},
   "outputs": [],
   "source": [
    "id_col = df_2018.loc[:,:'FILEDATE']"
   ]
  },
  {
   "cell_type": "code",
   "execution_count": 10,
   "metadata": {},
   "outputs": [
    {
     "data": {
      "text/html": [
       "<div>\n",
       "<style scoped>\n",
       "    .dataframe tbody tr th:only-of-type {\n",
       "        vertical-align: middle;\n",
       "    }\n",
       "\n",
       "    .dataframe tbody tr th {\n",
       "        vertical-align: top;\n",
       "    }\n",
       "\n",
       "    .dataframe thead th {\n",
       "        text-align: right;\n",
       "    }\n",
       "</style>\n",
       "<table border=\"1\" class=\"dataframe\">\n",
       "  <thead>\n",
       "    <tr style=\"text-align: right;\">\n",
       "      <th></th>\n",
       "      <th>QUESTID2</th>\n",
       "      <th>FILEDATE</th>\n",
       "    </tr>\n",
       "  </thead>\n",
       "  <tbody>\n",
       "    <tr>\n",
       "      <th>0</th>\n",
       "      <td>11015143</td>\n",
       "      <td>10/08/2019</td>\n",
       "    </tr>\n",
       "    <tr>\n",
       "      <th>1</th>\n",
       "      <td>86325143</td>\n",
       "      <td>10/08/2019</td>\n",
       "    </tr>\n",
       "    <tr>\n",
       "      <th>2</th>\n",
       "      <td>35425143</td>\n",
       "      <td>10/08/2019</td>\n",
       "    </tr>\n",
       "    <tr>\n",
       "      <th>3</th>\n",
       "      <td>98125143</td>\n",
       "      <td>10/08/2019</td>\n",
       "    </tr>\n",
       "    <tr>\n",
       "      <th>4</th>\n",
       "      <td>15945143</td>\n",
       "      <td>10/08/2019</td>\n",
       "    </tr>\n",
       "  </tbody>\n",
       "</table>\n",
       "</div>"
      ],
      "text/plain": [
       "   QUESTID2    FILEDATE\n",
       "0  11015143  10/08/2019\n",
       "1  86325143  10/08/2019\n",
       "2  35425143  10/08/2019\n",
       "3  98125143  10/08/2019\n",
       "4  15945143  10/08/2019"
      ]
     },
     "execution_count": 10,
     "metadata": {},
     "output_type": "execute_result"
    }
   ],
   "source": [
    "id_col.head()"
   ]
  },
  {
   "cell_type": "code",
   "execution_count": 4,
   "metadata": {},
   "outputs": [
    {
     "data": {
      "text/html": [
       "<div>\n",
       "<style scoped>\n",
       "    .dataframe tbody tr th:only-of-type {\n",
       "        vertical-align: middle;\n",
       "    }\n",
       "\n",
       "    .dataframe tbody tr th {\n",
       "        vertical-align: top;\n",
       "    }\n",
       "\n",
       "    .dataframe thead th {\n",
       "        text-align: right;\n",
       "    }\n",
       "</style>\n",
       "<table border=\"1\" class=\"dataframe\">\n",
       "  <thead>\n",
       "    <tr style=\"text-align: right;\">\n",
       "      <th></th>\n",
       "      <th>AUINPYR</th>\n",
       "      <th>AUINPSYH</th>\n",
       "      <th>AUINPGEN</th>\n",
       "      <th>AUINMEDU</th>\n",
       "      <th>AUINAHSP</th>\n",
       "      <th>AUINRESD</th>\n",
       "      <th>AUINSFAC</th>\n",
       "      <th>AUNMPSY2</th>\n",
       "      <th>AUNMPGE2</th>\n",
       "      <th>AUNMMED2</th>\n",
       "      <th>...</th>\n",
       "      <th>POVERTY3</th>\n",
       "      <th>TOOLONG</th>\n",
       "      <th>TROUBUND</th>\n",
       "      <th>PDEN10</th>\n",
       "      <th>COUTYP4</th>\n",
       "      <th>MAIIN102</th>\n",
       "      <th>AIIND102</th>\n",
       "      <th>ANALWT_C</th>\n",
       "      <th>VESTR</th>\n",
       "      <th>VEREP</th>\n",
       "    </tr>\n",
       "  </thead>\n",
       "  <tbody>\n",
       "    <tr>\n",
       "      <th>0</th>\n",
       "      <td>2</td>\n",
       "      <td>99</td>\n",
       "      <td>99</td>\n",
       "      <td>99</td>\n",
       "      <td>99</td>\n",
       "      <td>99</td>\n",
       "      <td>99</td>\n",
       "      <td>999</td>\n",
       "      <td>999</td>\n",
       "      <td>999</td>\n",
       "      <td>...</td>\n",
       "      <td>3.0</td>\n",
       "      <td>2</td>\n",
       "      <td>2</td>\n",
       "      <td>1</td>\n",
       "      <td>1</td>\n",
       "      <td>2</td>\n",
       "      <td>2</td>\n",
       "      <td>20783.261908</td>\n",
       "      <td>40001</td>\n",
       "      <td>1</td>\n",
       "    </tr>\n",
       "    <tr>\n",
       "      <th>1</th>\n",
       "      <td>2</td>\n",
       "      <td>99</td>\n",
       "      <td>99</td>\n",
       "      <td>99</td>\n",
       "      <td>99</td>\n",
       "      <td>99</td>\n",
       "      <td>99</td>\n",
       "      <td>999</td>\n",
       "      <td>999</td>\n",
       "      <td>999</td>\n",
       "      <td>...</td>\n",
       "      <td>2.0</td>\n",
       "      <td>2</td>\n",
       "      <td>2</td>\n",
       "      <td>3</td>\n",
       "      <td>3</td>\n",
       "      <td>2</td>\n",
       "      <td>2</td>\n",
       "      <td>1095.884074</td>\n",
       "      <td>40004</td>\n",
       "      <td>1</td>\n",
       "    </tr>\n",
       "    <tr>\n",
       "      <th>2</th>\n",
       "      <td>2</td>\n",
       "      <td>99</td>\n",
       "      <td>99</td>\n",
       "      <td>99</td>\n",
       "      <td>99</td>\n",
       "      <td>99</td>\n",
       "      <td>99</td>\n",
       "      <td>999</td>\n",
       "      <td>999</td>\n",
       "      <td>999</td>\n",
       "      <td>...</td>\n",
       "      <td>3.0</td>\n",
       "      <td>2</td>\n",
       "      <td>2</td>\n",
       "      <td>2</td>\n",
       "      <td>2</td>\n",
       "      <td>2</td>\n",
       "      <td>2</td>\n",
       "      <td>374.445005</td>\n",
       "      <td>40017</td>\n",
       "      <td>2</td>\n",
       "    </tr>\n",
       "    <tr>\n",
       "      <th>3</th>\n",
       "      <td>2</td>\n",
       "      <td>99</td>\n",
       "      <td>99</td>\n",
       "      <td>99</td>\n",
       "      <td>99</td>\n",
       "      <td>99</td>\n",
       "      <td>99</td>\n",
       "      <td>999</td>\n",
       "      <td>999</td>\n",
       "      <td>999</td>\n",
       "      <td>...</td>\n",
       "      <td>2.0</td>\n",
       "      <td>2</td>\n",
       "      <td>2</td>\n",
       "      <td>2</td>\n",
       "      <td>2</td>\n",
       "      <td>2</td>\n",
       "      <td>2</td>\n",
       "      <td>2421.263435</td>\n",
       "      <td>40038</td>\n",
       "      <td>2</td>\n",
       "    </tr>\n",
       "    <tr>\n",
       "      <th>4</th>\n",
       "      <td>2</td>\n",
       "      <td>99</td>\n",
       "      <td>99</td>\n",
       "      <td>99</td>\n",
       "      <td>99</td>\n",
       "      <td>99</td>\n",
       "      <td>99</td>\n",
       "      <td>999</td>\n",
       "      <td>999</td>\n",
       "      <td>999</td>\n",
       "      <td>...</td>\n",
       "      <td>2.0</td>\n",
       "      <td>1</td>\n",
       "      <td>2</td>\n",
       "      <td>1</td>\n",
       "      <td>1</td>\n",
       "      <td>2</td>\n",
       "      <td>2</td>\n",
       "      <td>6637.319591</td>\n",
       "      <td>40040</td>\n",
       "      <td>2</td>\n",
       "    </tr>\n",
       "  </tbody>\n",
       "</table>\n",
       "<p>5 rows × 1031 columns</p>\n",
       "</div>"
      ],
      "text/plain": [
       "   AUINPYR  AUINPSYH  AUINPGEN  AUINMEDU  AUINAHSP  AUINRESD  AUINSFAC  \\\n",
       "0        2        99        99        99        99        99        99   \n",
       "1        2        99        99        99        99        99        99   \n",
       "2        2        99        99        99        99        99        99   \n",
       "3        2        99        99        99        99        99        99   \n",
       "4        2        99        99        99        99        99        99   \n",
       "\n",
       "   AUNMPSY2  AUNMPGE2  AUNMMED2  ...  POVERTY3  TOOLONG  TROUBUND  PDEN10  \\\n",
       "0       999       999       999  ...       3.0        2         2       1   \n",
       "1       999       999       999  ...       2.0        2         2       3   \n",
       "2       999       999       999  ...       3.0        2         2       2   \n",
       "3       999       999       999  ...       2.0        2         2       2   \n",
       "4       999       999       999  ...       2.0        1         2       1   \n",
       "\n",
       "   COUTYP4  MAIIN102  AIIND102      ANALWT_C  VESTR  VEREP  \n",
       "0        1         2         2  20783.261908  40001      1  \n",
       "1        3         2         2   1095.884074  40004      1  \n",
       "2        2         2         2    374.445005  40017      2  \n",
       "3        2         2         2   2421.263435  40038      2  \n",
       "4        1         2         2   6637.319591  40040      2  \n",
       "\n",
       "[5 rows x 1031 columns]"
      ]
     },
     "execution_count": 4,
     "metadata": {},
     "output_type": "execute_result"
    }
   ],
   "source": [
    "# Drop columns not related to Adult MH Qs or relevant for target variable analysis\n",
    "df_mh = df_2018.loc[:,'AUINPYR':]\n",
    "df_mh.head()"
   ]
  },
  {
   "cell_type": "code",
   "execution_count": 19,
   "metadata": {},
   "outputs": [
    {
     "data": {
      "text/plain": [
       "(56313, 1031)"
      ]
     },
     "execution_count": 19,
     "metadata": {},
     "output_type": "execute_result"
    }
   ],
   "source": [
    "df_mh.shape"
   ]
  },
  {
   "cell_type": "code",
   "execution_count": 5,
   "metadata": {},
   "outputs": [
    {
     "data": {
      "text/plain": [
       "count          56313\n",
       "unique             1\n",
       "top       10/08/2019\n",
       "freq           56313\n",
       "Name: FILEDATE, dtype: object"
      ]
     },
     "execution_count": 5,
     "metadata": {},
     "output_type": "execute_result"
    }
   ],
   "source": [
    "id_col['FILEDATE'].describe()"
   ]
  },
  {
   "cell_type": "code",
   "execution_count": 6,
   "metadata": {},
   "outputs": [
    {
     "data": {
      "text/html": [
       "<div>\n",
       "<style scoped>\n",
       "    .dataframe tbody tr th:only-of-type {\n",
       "        vertical-align: middle;\n",
       "    }\n",
       "\n",
       "    .dataframe tbody tr th {\n",
       "        vertical-align: top;\n",
       "    }\n",
       "\n",
       "    .dataframe thead th {\n",
       "        text-align: right;\n",
       "    }\n",
       "</style>\n",
       "<table border=\"1\" class=\"dataframe\">\n",
       "  <thead>\n",
       "    <tr style=\"text-align: right;\">\n",
       "      <th></th>\n",
       "      <th>QUESTID2</th>\n",
       "      <th>FILEDATE</th>\n",
       "      <th>AUINPYR</th>\n",
       "      <th>AUINPSYH</th>\n",
       "      <th>AUINPGEN</th>\n",
       "      <th>AUINMEDU</th>\n",
       "      <th>AUINAHSP</th>\n",
       "      <th>AUINRESD</th>\n",
       "      <th>AUINSFAC</th>\n",
       "      <th>AUNMPSY2</th>\n",
       "      <th>...</th>\n",
       "      <th>POVERTY3</th>\n",
       "      <th>TOOLONG</th>\n",
       "      <th>TROUBUND</th>\n",
       "      <th>PDEN10</th>\n",
       "      <th>COUTYP4</th>\n",
       "      <th>MAIIN102</th>\n",
       "      <th>AIIND102</th>\n",
       "      <th>ANALWT_C</th>\n",
       "      <th>VESTR</th>\n",
       "      <th>VEREP</th>\n",
       "    </tr>\n",
       "  </thead>\n",
       "  <tbody>\n",
       "    <tr>\n",
       "      <th>0</th>\n",
       "      <td>11015143</td>\n",
       "      <td>10/08/2019</td>\n",
       "      <td>2</td>\n",
       "      <td>99</td>\n",
       "      <td>99</td>\n",
       "      <td>99</td>\n",
       "      <td>99</td>\n",
       "      <td>99</td>\n",
       "      <td>99</td>\n",
       "      <td>999</td>\n",
       "      <td>...</td>\n",
       "      <td>3.0</td>\n",
       "      <td>2</td>\n",
       "      <td>2</td>\n",
       "      <td>1</td>\n",
       "      <td>1</td>\n",
       "      <td>2</td>\n",
       "      <td>2</td>\n",
       "      <td>20783.261908</td>\n",
       "      <td>40001</td>\n",
       "      <td>1</td>\n",
       "    </tr>\n",
       "    <tr>\n",
       "      <th>1</th>\n",
       "      <td>86325143</td>\n",
       "      <td>10/08/2019</td>\n",
       "      <td>2</td>\n",
       "      <td>99</td>\n",
       "      <td>99</td>\n",
       "      <td>99</td>\n",
       "      <td>99</td>\n",
       "      <td>99</td>\n",
       "      <td>99</td>\n",
       "      <td>999</td>\n",
       "      <td>...</td>\n",
       "      <td>2.0</td>\n",
       "      <td>2</td>\n",
       "      <td>2</td>\n",
       "      <td>3</td>\n",
       "      <td>3</td>\n",
       "      <td>2</td>\n",
       "      <td>2</td>\n",
       "      <td>1095.884074</td>\n",
       "      <td>40004</td>\n",
       "      <td>1</td>\n",
       "    </tr>\n",
       "    <tr>\n",
       "      <th>2</th>\n",
       "      <td>35425143</td>\n",
       "      <td>10/08/2019</td>\n",
       "      <td>2</td>\n",
       "      <td>99</td>\n",
       "      <td>99</td>\n",
       "      <td>99</td>\n",
       "      <td>99</td>\n",
       "      <td>99</td>\n",
       "      <td>99</td>\n",
       "      <td>999</td>\n",
       "      <td>...</td>\n",
       "      <td>3.0</td>\n",
       "      <td>2</td>\n",
       "      <td>2</td>\n",
       "      <td>2</td>\n",
       "      <td>2</td>\n",
       "      <td>2</td>\n",
       "      <td>2</td>\n",
       "      <td>374.445005</td>\n",
       "      <td>40017</td>\n",
       "      <td>2</td>\n",
       "    </tr>\n",
       "    <tr>\n",
       "      <th>3</th>\n",
       "      <td>98125143</td>\n",
       "      <td>10/08/2019</td>\n",
       "      <td>2</td>\n",
       "      <td>99</td>\n",
       "      <td>99</td>\n",
       "      <td>99</td>\n",
       "      <td>99</td>\n",
       "      <td>99</td>\n",
       "      <td>99</td>\n",
       "      <td>999</td>\n",
       "      <td>...</td>\n",
       "      <td>2.0</td>\n",
       "      <td>2</td>\n",
       "      <td>2</td>\n",
       "      <td>2</td>\n",
       "      <td>2</td>\n",
       "      <td>2</td>\n",
       "      <td>2</td>\n",
       "      <td>2421.263435</td>\n",
       "      <td>40038</td>\n",
       "      <td>2</td>\n",
       "    </tr>\n",
       "    <tr>\n",
       "      <th>4</th>\n",
       "      <td>15945143</td>\n",
       "      <td>10/08/2019</td>\n",
       "      <td>2</td>\n",
       "      <td>99</td>\n",
       "      <td>99</td>\n",
       "      <td>99</td>\n",
       "      <td>99</td>\n",
       "      <td>99</td>\n",
       "      <td>99</td>\n",
       "      <td>999</td>\n",
       "      <td>...</td>\n",
       "      <td>2.0</td>\n",
       "      <td>1</td>\n",
       "      <td>2</td>\n",
       "      <td>1</td>\n",
       "      <td>1</td>\n",
       "      <td>2</td>\n",
       "      <td>2</td>\n",
       "      <td>6637.319591</td>\n",
       "      <td>40040</td>\n",
       "      <td>2</td>\n",
       "    </tr>\n",
       "    <tr>\n",
       "      <th>5</th>\n",
       "      <td>18455143</td>\n",
       "      <td>10/08/2019</td>\n",
       "      <td>2</td>\n",
       "      <td>99</td>\n",
       "      <td>99</td>\n",
       "      <td>99</td>\n",
       "      <td>99</td>\n",
       "      <td>99</td>\n",
       "      <td>99</td>\n",
       "      <td>999</td>\n",
       "      <td>...</td>\n",
       "      <td>3.0</td>\n",
       "      <td>2</td>\n",
       "      <td>2</td>\n",
       "      <td>2</td>\n",
       "      <td>2</td>\n",
       "      <td>2</td>\n",
       "      <td>2</td>\n",
       "      <td>156.545890</td>\n",
       "      <td>40014</td>\n",
       "      <td>1</td>\n",
       "    </tr>\n",
       "    <tr>\n",
       "      <th>6</th>\n",
       "      <td>21965143</td>\n",
       "      <td>10/08/2019</td>\n",
       "      <td>99</td>\n",
       "      <td>99</td>\n",
       "      <td>99</td>\n",
       "      <td>99</td>\n",
       "      <td>99</td>\n",
       "      <td>99</td>\n",
       "      <td>99</td>\n",
       "      <td>999</td>\n",
       "      <td>...</td>\n",
       "      <td>3.0</td>\n",
       "      <td>2</td>\n",
       "      <td>2</td>\n",
       "      <td>2</td>\n",
       "      <td>1</td>\n",
       "      <td>2</td>\n",
       "      <td>2</td>\n",
       "      <td>498.362648</td>\n",
       "      <td>40027</td>\n",
       "      <td>2</td>\n",
       "    </tr>\n",
       "    <tr>\n",
       "      <th>7</th>\n",
       "      <td>75326143</td>\n",
       "      <td>10/08/2019</td>\n",
       "      <td>2</td>\n",
       "      <td>99</td>\n",
       "      <td>99</td>\n",
       "      <td>99</td>\n",
       "      <td>99</td>\n",
       "      <td>99</td>\n",
       "      <td>99</td>\n",
       "      <td>999</td>\n",
       "      <td>...</td>\n",
       "      <td>1.0</td>\n",
       "      <td>2</td>\n",
       "      <td>2</td>\n",
       "      <td>2</td>\n",
       "      <td>2</td>\n",
       "      <td>2</td>\n",
       "      <td>2</td>\n",
       "      <td>2632.804528</td>\n",
       "      <td>40010</td>\n",
       "      <td>2</td>\n",
       "    </tr>\n",
       "    <tr>\n",
       "      <th>8</th>\n",
       "      <td>61726143</td>\n",
       "      <td>10/08/2019</td>\n",
       "      <td>2</td>\n",
       "      <td>99</td>\n",
       "      <td>99</td>\n",
       "      <td>99</td>\n",
       "      <td>99</td>\n",
       "      <td>99</td>\n",
       "      <td>99</td>\n",
       "      <td>999</td>\n",
       "      <td>...</td>\n",
       "      <td>1.0</td>\n",
       "      <td>2</td>\n",
       "      <td>2</td>\n",
       "      <td>1</td>\n",
       "      <td>1</td>\n",
       "      <td>2</td>\n",
       "      <td>2</td>\n",
       "      <td>2818.351816</td>\n",
       "      <td>40040</td>\n",
       "      <td>2</td>\n",
       "    </tr>\n",
       "    <tr>\n",
       "      <th>9</th>\n",
       "      <td>47126143</td>\n",
       "      <td>10/08/2019</td>\n",
       "      <td>99</td>\n",
       "      <td>99</td>\n",
       "      <td>99</td>\n",
       "      <td>99</td>\n",
       "      <td>99</td>\n",
       "      <td>99</td>\n",
       "      <td>99</td>\n",
       "      <td>999</td>\n",
       "      <td>...</td>\n",
       "      <td>3.0</td>\n",
       "      <td>2</td>\n",
       "      <td>2</td>\n",
       "      <td>1</td>\n",
       "      <td>1</td>\n",
       "      <td>2</td>\n",
       "      <td>2</td>\n",
       "      <td>1025.394304</td>\n",
       "      <td>40016</td>\n",
       "      <td>2</td>\n",
       "    </tr>\n",
       "  </tbody>\n",
       "</table>\n",
       "<p>10 rows × 1033 columns</p>\n",
       "</div>"
      ],
      "text/plain": [
       "   QUESTID2    FILEDATE  AUINPYR  AUINPSYH  AUINPGEN  AUINMEDU  AUINAHSP  \\\n",
       "0  11015143  10/08/2019        2        99        99        99        99   \n",
       "1  86325143  10/08/2019        2        99        99        99        99   \n",
       "2  35425143  10/08/2019        2        99        99        99        99   \n",
       "3  98125143  10/08/2019        2        99        99        99        99   \n",
       "4  15945143  10/08/2019        2        99        99        99        99   \n",
       "5  18455143  10/08/2019        2        99        99        99        99   \n",
       "6  21965143  10/08/2019       99        99        99        99        99   \n",
       "7  75326143  10/08/2019        2        99        99        99        99   \n",
       "8  61726143  10/08/2019        2        99        99        99        99   \n",
       "9  47126143  10/08/2019       99        99        99        99        99   \n",
       "\n",
       "   AUINRESD  AUINSFAC  AUNMPSY2  ...  POVERTY3  TOOLONG  TROUBUND  PDEN10  \\\n",
       "0        99        99       999  ...       3.0        2         2       1   \n",
       "1        99        99       999  ...       2.0        2         2       3   \n",
       "2        99        99       999  ...       3.0        2         2       2   \n",
       "3        99        99       999  ...       2.0        2         2       2   \n",
       "4        99        99       999  ...       2.0        1         2       1   \n",
       "5        99        99       999  ...       3.0        2         2       2   \n",
       "6        99        99       999  ...       3.0        2         2       2   \n",
       "7        99        99       999  ...       1.0        2         2       2   \n",
       "8        99        99       999  ...       1.0        2         2       1   \n",
       "9        99        99       999  ...       3.0        2         2       1   \n",
       "\n",
       "   COUTYP4  MAIIN102  AIIND102      ANALWT_C  VESTR  VEREP  \n",
       "0        1         2         2  20783.261908  40001      1  \n",
       "1        3         2         2   1095.884074  40004      1  \n",
       "2        2         2         2    374.445005  40017      2  \n",
       "3        2         2         2   2421.263435  40038      2  \n",
       "4        1         2         2   6637.319591  40040      2  \n",
       "5        2         2         2    156.545890  40014      1  \n",
       "6        1         2         2    498.362648  40027      2  \n",
       "7        2         2         2   2632.804528  40010      2  \n",
       "8        1         2         2   2818.351816  40040      2  \n",
       "9        1         2         2   1025.394304  40016      2  \n",
       "\n",
       "[10 rows x 1033 columns]"
      ]
     },
     "execution_count": 6,
     "metadata": {},
     "output_type": "execute_result"
    }
   ],
   "source": [
    "# Compile columns to a final dataset before further cleaning\n",
    "merge_df = pd.concat([id_col, df_mh], axis=1)\n",
    "merge_df.head(10)"
   ]
  },
  {
   "cell_type": "code",
   "execution_count": 10,
   "metadata": {},
   "outputs": [
    {
     "data": {
      "text/plain": [
       "(56313, 1033)"
      ]
     },
     "execution_count": 10,
     "metadata": {},
     "output_type": "execute_result"
    }
   ],
   "source": [
    "merge_df.shape"
   ]
  },
  {
   "cell_type": "code",
   "execution_count": 7,
   "metadata": {},
   "outputs": [],
   "source": [
    "# Convert date object to year only\n",
    "import datetime\n",
    "merge_df['FILEDATE'] = pd.DatetimeIndex(merge_df['FILEDATE']).year"
   ]
  },
  {
   "cell_type": "code",
   "execution_count": 18,
   "metadata": {},
   "outputs": [
    {
     "name": "stdout",
     "output_type": "stream",
     "text": [
      "<class 'pandas.core.frame.DataFrame'>\n",
      "RangeIndex: 56313 entries, 0 to 56312\n",
      "Columns: 1033 entries, QUESTID2 to VEREP\n",
      "dtypes: float64(299), int64(733), object(1)\n",
      "memory usage: 443.8+ MB\n"
     ]
    }
   ],
   "source": [
    "merge_df.info()"
   ]
  },
  {
   "cell_type": "markdown",
   "metadata": {},
   "source": [
    "#### Target Variable: Predict adult receiving mental health treatment or not (AUUNMTYR or ADSEEDOCC).\n",
    "\n",
    "##### Who can use this information to their benefit? Can I provide insight and give recommendations based on this analysis?\n",
    " - Public health departments, correctional institutions e.g. prison, lawmakers, employers (suffer cost or loss in productivity if employees with depression like symptoms don't seek treatment/get help. "
   ]
  },
  {
   "cell_type": "code",
   "execution_count": 13,
   "metadata": {},
   "outputs": [],
   "source": [
    "# Features (columns) to keep: ADULT MENTAL HEALTH SERVICE UTILITY, ADULT MENTAL HEALTH, ADULT DEPRESSION,\n",
    "# INCOME & INSURANCE, EMPLOYMENT, EDUCATION, DEMOGRAPHICS(age,sex,income,race), GEOGRAPHIC\n",
    "# - Demographics: Age, Marital status, military status(?), overall health, identity, education, "
   ]
  },
  {
   "cell_type": "code",
   "execution_count": 8,
   "metadata": {},
   "outputs": [],
   "source": [
    "# Eliminate features irrelevant to target variable\n",
    "merge_df.drop(merge_df.iloc[:, 2:25], inplace=True, axis=1)\n",
    "merge_df.drop(['AUPINFRE', 'AUPINFM2'], inplace=True, axis=1)\n",
    "merge_df.drop(merge_df.loc[:,'YEATNDYR': 'RLGFRND'], inplace=True, axis=1)\n",
    "merge_df.drop(merge_df.loc[:,'YODPREV':'YMDEIUDPY'], inplace=True, axis=1)"
   ]
  },
  {
   "cell_type": "code",
   "execution_count": 34,
   "metadata": {},
   "outputs": [],
   "source": [
    "# Rename columns for easier navigation\n",
    "# merge_df.rename(columns={'QUESTID2':'QUESTION', 'AUUNMTYR':'Target', \n",
    "#                  'AUUNRIM2': 'Reasons', 'AGE2':'Age',\n",
    "#                 'EDUSCHGRD2':'EducationLevel', 'CAIDCHIP':'MEDICAID',\n",
    "#                 'PRVHLTIN':'PrivInsurance', 'IRPINC3':'OwnIncome',\n",
    "#                 'IRFAMIN3':'FamIncome', 'COUTYP4':'Metro'}, \n",
    "#                 inplace=True\n",
    "#                )\n",
    "merge_df.rename(columns={'ADDPR2WK':'Depr2WK', 'ADWRHRS':'DeprHours', \n",
    "                 'ADTMTNOW': 'CurrRcvTrmt', 'ADRX12MO':'PreMeds12',\n",
    "                'ADRXNOW':'CurrTakeMeds', 'ADRXHLP':'MedsHelpful',\n",
    "                'AUALTYR':'AltTrmt', 'AUNMTHE2':'PrTherapVisit',\n",
    "                'ADSMMDEA':'5moreSymp', 'ADSEEDOC':'SeeProf12M'}, \n",
    "                inplace=True\n",
    "               )"
   ]
  },
  {
   "cell_type": "code",
   "execution_count": 88,
   "metadata": {},
   "outputs": [],
   "source": [
    "# Drop rows with answers '85,89,97,98,99' \n",
    "# merge_df.drop(merge_df[merge_df['Target'] == 85].index, inplace = True) \n",
    "# merge_df.drop(merge_df[merge_df['Target'] == 87].index, inplace = True) \n",
    "# merge_df.drop(merge_df[merge_df['Target'] == 94].index, inplace = True) \n",
    "# merge_df.drop(merge_df[merge_df['SeeProf12M'] == 97].index, inplace = True) \n",
    "merge_df.drop(merge_df[merge_df['WorkStatus'] == 98].index, inplace = True) \n",
    "merge_df.drop(merge_df[merge_df['WorkStatus'] == 99].index, inplace = True) "
   ]
  },
  {
   "cell_type": "code",
   "execution_count": 36,
   "metadata": {},
   "outputs": [
    {
     "data": {
      "text/plain": [
       "(2121, 813)"
      ]
     },
     "execution_count": 36,
     "metadata": {},
     "output_type": "execute_result"
    }
   ],
   "source": [
    "merge_df.shape"
   ]
  },
  {
   "cell_type": "code",
   "execution_count": 39,
   "metadata": {},
   "outputs": [],
   "source": [
    "# more dropping\n"
   ]
  },
  {
   "cell_type": "markdown",
   "metadata": {},
   "source": [
    "#### Which Metric is Relevant to my Target?\n",
    "If we predict an adult will receive mental health trmt/counseling, but they actually do not - it is arbitrarily good/bad and 'accuracy' would not provide much insight. \n",
    "Rather, I want to target adults who admit they DO need MH trmt and decide if they get it or not. \n",
    "- Hence, a false positive or RECALL score (rate of results correctly classified by algorithm) is more relevant in this case. "
   ]
  },
  {
   "cell_type": "markdown",
   "metadata": {},
   "source": [
    "### EDA\n",
    "#### Insights from Data\n",
    "ADDPR2WK - 10,602 felt depressed everyday for 2+ wks in 2018 (of data collected) - majority.\n",
    "\n",
    "ADWRHR - Most answered severe/frequent mood lasted 5+ hrs *visualize time vs % - suggesting feelings e.g. depression are not temporary or bad moods\n",
    "\n",
    "ADTMTNOW - 1786 currently receiving proff help with mood problems (442)\n",
    "\n",
    "ADRX12MO - 2567 (minority) took pres meds in past 12m (for mood)\n",
    "\n",
    "ADRXNOW - 2066 (less) adults currently taking presc meds (for mood).\n",
    "\n",
    "ADRXHLP - Of those who answered, most found presc meds have helped a lot/some/extremely similar to ADTMTHLP trmt/counslg but more answered \"1 = not at all\" and overall had more answers than presc meds Q.\n",
    "\n",
    "AUUNMTYR - 45,909 or ~7% answered yes they needed MH treatment but didn't get it in 2018\n",
    "\n",
    "AUUNRIM2 - Did not think necessary, did not have time, stimatized/ashamed/embarrassed/afraid to, and affordability were most collected answers *Most important reasons for not getting treatment vs %\n",
    "\n",
    "AUALTYR - 55,480 received alternative (not presc meds/inpatient/outpatient) mental health treatment in 2018* not mutually excluse to outpatient answers\n",
    "\n",
    "AUNMTHE2 - Private therapy most popular outpatient visit in 2018. \n",
    "\n",
    "\n",
    "ADSMMDEA- More people have experienced combo of 5+ symptoms among adult depression\n",
    "\n",
    "ADSEEDOCC- More people did not see professional about feelings related to adult depression (4005 to 3115)"
   ]
  },
  {
   "cell_type": "code",
   "execution_count": 38,
   "metadata": {},
   "outputs": [
    {
     "data": {
      "text/html": [
       "<div>\n",
       "<style scoped>\n",
       "    .dataframe tbody tr th:only-of-type {\n",
       "        vertical-align: middle;\n",
       "    }\n",
       "\n",
       "    .dataframe tbody tr th {\n",
       "        vertical-align: top;\n",
       "    }\n",
       "\n",
       "    .dataframe thead th {\n",
       "        text-align: right;\n",
       "    }\n",
       "</style>\n",
       "<table border=\"1\" class=\"dataframe\">\n",
       "  <thead>\n",
       "    <tr style=\"text-align: right;\">\n",
       "      <th></th>\n",
       "      <th>QUESTION</th>\n",
       "      <th>FILEDATE</th>\n",
       "      <th>AUOPTYR</th>\n",
       "      <th>AUOPMENT</th>\n",
       "      <th>AUOPTHER</th>\n",
       "      <th>AUOPDOC</th>\n",
       "      <th>AUOPCLNC</th>\n",
       "      <th>AUOPDTMT</th>\n",
       "      <th>AUOPOTOP</th>\n",
       "      <th>AUOPYRS2</th>\n",
       "      <th>...</th>\n",
       "      <th>POVERTY3</th>\n",
       "      <th>TOOLONG</th>\n",
       "      <th>TROUBUND</th>\n",
       "      <th>PDEN10</th>\n",
       "      <th>Metro</th>\n",
       "      <th>MAIIN102</th>\n",
       "      <th>AIIND102</th>\n",
       "      <th>ANALWT_C</th>\n",
       "      <th>VESTR</th>\n",
       "      <th>VEREP</th>\n",
       "    </tr>\n",
       "  </thead>\n",
       "  <tbody>\n",
       "    <tr>\n",
       "      <th>3</th>\n",
       "      <td>98125143</td>\n",
       "      <td>2019</td>\n",
       "      <td>2</td>\n",
       "      <td>99</td>\n",
       "      <td>99</td>\n",
       "      <td>99</td>\n",
       "      <td>99</td>\n",
       "      <td>99</td>\n",
       "      <td>99</td>\n",
       "      <td>99</td>\n",
       "      <td>...</td>\n",
       "      <td>2.0</td>\n",
       "      <td>2</td>\n",
       "      <td>2</td>\n",
       "      <td>2</td>\n",
       "      <td>2</td>\n",
       "      <td>2</td>\n",
       "      <td>2</td>\n",
       "      <td>2421.263435</td>\n",
       "      <td>40038</td>\n",
       "      <td>2</td>\n",
       "    </tr>\n",
       "    <tr>\n",
       "      <th>32</th>\n",
       "      <td>33419143</td>\n",
       "      <td>2019</td>\n",
       "      <td>2</td>\n",
       "      <td>99</td>\n",
       "      <td>99</td>\n",
       "      <td>99</td>\n",
       "      <td>99</td>\n",
       "      <td>99</td>\n",
       "      <td>99</td>\n",
       "      <td>99</td>\n",
       "      <td>...</td>\n",
       "      <td>2.0</td>\n",
       "      <td>2</td>\n",
       "      <td>2</td>\n",
       "      <td>2</td>\n",
       "      <td>2</td>\n",
       "      <td>2</td>\n",
       "      <td>2</td>\n",
       "      <td>3652.804729</td>\n",
       "      <td>40014</td>\n",
       "      <td>2</td>\n",
       "    </tr>\n",
       "    <tr>\n",
       "      <th>114</th>\n",
       "      <td>43440243</td>\n",
       "      <td>2019</td>\n",
       "      <td>2</td>\n",
       "      <td>99</td>\n",
       "      <td>99</td>\n",
       "      <td>99</td>\n",
       "      <td>99</td>\n",
       "      <td>99</td>\n",
       "      <td>99</td>\n",
       "      <td>99</td>\n",
       "      <td>...</td>\n",
       "      <td>1.0</td>\n",
       "      <td>2</td>\n",
       "      <td>2</td>\n",
       "      <td>2</td>\n",
       "      <td>2</td>\n",
       "      <td>2</td>\n",
       "      <td>2</td>\n",
       "      <td>1357.615481</td>\n",
       "      <td>40048</td>\n",
       "      <td>2</td>\n",
       "    </tr>\n",
       "    <tr>\n",
       "      <th>116</th>\n",
       "      <td>27040243</td>\n",
       "      <td>2019</td>\n",
       "      <td>2</td>\n",
       "      <td>99</td>\n",
       "      <td>99</td>\n",
       "      <td>99</td>\n",
       "      <td>99</td>\n",
       "      <td>99</td>\n",
       "      <td>99</td>\n",
       "      <td>99</td>\n",
       "      <td>...</td>\n",
       "      <td>2.0</td>\n",
       "      <td>1</td>\n",
       "      <td>2</td>\n",
       "      <td>2</td>\n",
       "      <td>2</td>\n",
       "      <td>2</td>\n",
       "      <td>2</td>\n",
       "      <td>827.542355</td>\n",
       "      <td>40042</td>\n",
       "      <td>2</td>\n",
       "    </tr>\n",
       "    <tr>\n",
       "      <th>195</th>\n",
       "      <td>71912343</td>\n",
       "      <td>2019</td>\n",
       "      <td>1</td>\n",
       "      <td>6</td>\n",
       "      <td>1</td>\n",
       "      <td>6</td>\n",
       "      <td>6</td>\n",
       "      <td>6</td>\n",
       "      <td>6</td>\n",
       "      <td>99</td>\n",
       "      <td>...</td>\n",
       "      <td>3.0</td>\n",
       "      <td>2</td>\n",
       "      <td>2</td>\n",
       "      <td>1</td>\n",
       "      <td>1</td>\n",
       "      <td>2</td>\n",
       "      <td>2</td>\n",
       "      <td>3749.403114</td>\n",
       "      <td>40033</td>\n",
       "      <td>1</td>\n",
       "    </tr>\n",
       "  </tbody>\n",
       "</table>\n",
       "<p>5 rows × 813 columns</p>\n",
       "</div>"
      ],
      "text/plain": [
       "     QUESTION  FILEDATE  AUOPTYR  AUOPMENT  AUOPTHER  AUOPDOC  AUOPCLNC  \\\n",
       "3    98125143      2019        2        99        99       99        99   \n",
       "32   33419143      2019        2        99        99       99        99   \n",
       "114  43440243      2019        2        99        99       99        99   \n",
       "116  27040243      2019        2        99        99       99        99   \n",
       "195  71912343      2019        1         6         1        6         6   \n",
       "\n",
       "     AUOPDTMT  AUOPOTOP  AUOPYRS2  ...  POVERTY3  TOOLONG  TROUBUND  PDEN10  \\\n",
       "3          99        99        99  ...       2.0        2         2       2   \n",
       "32         99        99        99  ...       2.0        2         2       2   \n",
       "114        99        99        99  ...       1.0        2         2       2   \n",
       "116        99        99        99  ...       2.0        1         2       2   \n",
       "195         6         6        99  ...       3.0        2         2       1   \n",
       "\n",
       "     Metro  MAIIN102  AIIND102     ANALWT_C  VESTR  VEREP  \n",
       "3        2         2         2  2421.263435  40038      2  \n",
       "32       2         2         2  3652.804729  40014      2  \n",
       "114      2         2         2  1357.615481  40048      2  \n",
       "116      2         2         2   827.542355  40042      2  \n",
       "195      1         2         2  3749.403114  40033      1  \n",
       "\n",
       "[5 rows x 813 columns]"
      ]
     },
     "execution_count": 38,
     "metadata": {},
     "output_type": "execute_result"
    }
   ],
   "source": [
    "# Set x,y variables for model fitting\n",
    "X = merge_df.drop('Target', axis=1)\n",
    "y = merge_df['Target']\n",
    "\n",
    "merge_df.head(5)"
   ]
  },
  {
   "cell_type": "code",
   "execution_count": 40,
   "metadata": {},
   "outputs": [
    {
     "data": {
      "text/plain": [
       "2    0.64\n",
       "1    0.36\n",
       "Name: Target, dtype: float64"
      ]
     },
     "execution_count": 40,
     "metadata": {},
     "output_type": "execute_result"
    }
   ],
   "source": [
    "round(merge_df['Target'].value_counts(normalize=True), 2)"
   ]
  },
  {
   "cell_type": "code",
   "execution_count": 46,
   "metadata": {},
   "outputs": [
    {
     "data": {
      "text/plain": [
       "2    1348\n",
       "1     773\n",
       "Name: Target, dtype: int64"
      ]
     },
     "execution_count": 46,
     "metadata": {},
     "output_type": "execute_result"
    }
   ],
   "source": [
    "merge_df['Target'].value_counts()\n",
    "# y.describe"
   ]
  },
  {
   "cell_type": "markdown",
   "metadata": {},
   "source": [
    "EDA continued"
   ]
  },
  {
   "cell_type": "code",
   "execution_count": null,
   "metadata": {},
   "outputs": [],
   "source": [
    "# Take subset of merge_df\n",
    "# new_df = merge_df.loc[:,'WRKSTATWK2':]"
   ]
  },
  {
   "cell_type": "code",
   "execution_count": 55,
   "metadata": {},
   "outputs": [
    {
     "data": {
      "text/plain": [
       "99    1688\n",
       "11     143\n",
       "10     139\n",
       "9       96\n",
       "98      29\n",
       "8       20\n",
       "7        2\n",
       "5        1\n",
       "1        1\n",
       "6        1\n",
       "4        1\n",
       "Name: EducationLevel, dtype: int64"
      ]
     },
     "execution_count": 55,
     "metadata": {},
     "output_type": "execute_result"
    }
   ],
   "source": [
    "merge_df['EducationLevel'].value_counts()"
   ]
  },
  {
   "cell_type": "code",
   "execution_count": 57,
   "metadata": {},
   "outputs": [],
   "source": [
    "# Import Viz tools\n",
    "import seaborn as sns\n",
    "sns.set(style=\"darkgrid\", color_codes=True)\n",
    "import matplotlib.pyplot as plt\n",
    "%matplotlib inline"
   ]
  },
  {
   "cell_type": "code",
   "execution_count": 91,
   "metadata": {},
   "outputs": [
    {
     "data": {
      "image/png": "[encoded data removed]",
      "text/plain": [
       "<Figure size 432x288 with 1 Axes>"
      ]
     },
     "metadata": {},
     "output_type": "display_data"
    }
   ],
   "source": [
    "fig, ax = plt.subplots()\n",
    "merge_df['WorkStatus'].value_counts().plot(kind='bar')\n",
    "# sns.set_palette('BuGn_r')\n",
    "plt.title('Employment Status')\n",
    "plt.ylabel('Respondent Makeup')\n",
    "ax.set_xlabel('1=Full-time 2=Part-time 6=In School')\n",
    "ax.set_xlim(1,10)\n",
    "plt.show()\n",
    "\n",
    "# color_palette_list = ['#009ACD', '#ADD8E6', '#63D1F4', '#0EBFE9', \n",
    "#                       '#C1F0F6', '#0099CC']\n",
    "\n",
    "# sns.barplot(x=merge_df[''],  \n",
    "#             data = merge_df, palette=color_palette_list, \n",
    "#             label='', \n",
    "#             ax=ax)\n",
    "# ax.set_title('')\n",
    "# ax.set_ylabel(''% of Respondents')\n",
    "# ax.set_ylim(0,12)\n",
    "# ax.set_xlabel('')"
   ]
  },
  {
   "cell_type": "code",
   "execution_count": 78,
   "metadata": {},
   "outputs": [
    {
     "data": {
      "image/png": "[encoded data removed]",
      "text/plain": [
       "<Figure size 432x288 with 1 Axes>"
      ]
     },
     "metadata": {},
     "output_type": "display_data"
    }
   ],
   "source": [
    "merge_df['Age'].value_counts().plot(kind='bar')\n",
    "sns.set_palette('husl')\n",
    "plt.title('Age')\n",
    "plt.ylabel('# of Respondents')\n",
    "plt.show()\n",
    "# needs sorting"
   ]
  },
  {
   "cell_type": "code",
   "execution_count": 87,
   "metadata": {},
   "outputs": [
    {
     "data": {
      "image/png": "[encoded data removed]",
      "text/plain": [
       "<Figure size 504x288 with 1 Axes>"
      ]
     },
     "metadata": {},
     "output_type": "display_data"
    }
   ],
   "source": [
    "fig, ax = plt.subplots(figsize=(7,4))\n",
    "merge_df['EducationLevel'].value_counts().plot(kind='bar')\n",
    "sns.set_palette('deep')\n",
    "plt.title('Education Level')\n",
    "plt.ylabel('# of Respondents')\n",
    "ax.set_xlabel('< 5th Grade to College Senior')\n",
    "plt.show()\n",
    "# sort by order 1-11"
   ]
  },
  {
   "cell_type": "code",
   "execution_count": 81,
   "metadata": {},
   "outputs": [
    {
     "data": {
      "text/plain": [
       "7    639\n",
       "6    331\n",
       "2    276\n",
       "3    235\n",
       "1    217\n",
       "4    217\n",
       "5    206\n",
       "Name: FamIncome, dtype: int64"
      ]
     },
     "execution_count": 81,
     "metadata": {},
     "output_type": "execute_result"
    }
   ],
   "source": [
    "merge_df['FamIncome'].value_counts()"
   ]
  },
  {
   "cell_type": "code",
   "execution_count": 76,
   "metadata": {},
   "outputs": [
    {
     "data": {
      "image/png": "[encoded data removed]",
      "text/plain": [
       "<Figure size 432x288 with 1 Axes>"
      ]
     },
     "metadata": {},
     "output_type": "display_data"
    }
   ],
   "source": [
    "fig, ax = plt.subplots()\n",
    "merge_df['FamIncome'].value_counts().plot(kind='bar')\n",
    "sns.set_palette('BuGn_r')\n",
    "plt.title('Total Family Income')\n",
    "plt.ylabel('Respondents')\n",
    "ax.set_xlabel('')\n",
    "plt.show()"
   ]
  },
  {
   "cell_type": "code",
   "execution_count": 61,
   "metadata": {},
   "outputs": [],
   "source": [
    "# Employment Status & Type\n",
    "merge_df.rename(columns={'WRKSTATWK2':'WorkStatus'}, inplace=True)\n",
    "merge_df.drop(merge_df.loc[:,'WRKLASTYR2': 'WRKOKRAND'], inplace=True, axis=1)\n",
    "merge_df.drop(merge_df.loc[:,'IIKI17_2': 'PRXYDATA'], inplace=True, axis=1)"
   ]
  },
  {
   "cell_type": "code",
   "execution_count": 70,
   "metadata": {},
   "outputs": [
    {
     "data": {
      "image/png": "[encoded data removed]",
      "text/plain": [
       "<Figure size 864x432 with 1 Axes>"
      ]
     },
     "metadata": {},
     "output_type": "display_data"
    }
   ],
   "source": [
    "fig, ax = plt.subplots(figsize=(12,6))\n",
    "merge_df.Target.value_counts().plot(kind='bar')\n",
    "sns.set_palette('deep')\n",
    "plt.title('Mental Health Treatment/Counseling Utility')\n",
    "ax.set_xlabel('Received vs Did not Receive')\n",
    "plt.ylabel('% of Respondents')\n",
    "plt.show()"
   ]
  },
  {
   "cell_type": "code",
   "execution_count": 74,
   "metadata": {},
   "outputs": [
    {
     "data": {
      "text/plain": [
       "<seaborn.axisgrid.FacetGrid at 0x12e8d84a8>"
      ]
     },
     "execution_count": 74,
     "metadata": {},
     "output_type": "execute_result"
    },
    {
     "data": {
      "image/png": "[encoded data removed]",
      "text/plain": [
       "<Figure size 432x216 with 2 Axes>"
      ]
     },
     "metadata": {},
     "output_type": "display_data"
    }
   ],
   "source": [
    "# Target Viz\n",
    "sns.set(context='notebook',style='darkgrid', font='Arial')\n",
    "sns.set_palette('husl')\n",
    "g = sns.FacetGrid(merge_df, col='Target')\n",
    "g.map(plt.hist, 'Age', bins=10)"
   ]
  },
  {
   "cell_type": "code",
   "execution_count": 72,
   "metadata": {},
   "outputs": [
    {
     "data": {
      "text/plain": [
       "<seaborn.axisgrid.FacetGrid at 0x12cb5e780>"
      ]
     },
     "execution_count": 72,
     "metadata": {},
     "output_type": "execute_result"
    },
    {
     "data": {
      "image/png": "[encoded data removed]",
      "text/plain": [
       "<Figure size 432x216 with 2 Axes>"
      ]
     },
     "metadata": {},
     "output_type": "display_data"
    }
   ],
   "source": [
    "# Target Viz\n",
    "sns.set(context='notebook',style='darkgrid', font='Arial')\n",
    "sns.set_palette('BuGn_r')\n",
    "g = sns.FacetGrid(merge_df, col='Target')\n",
    "g.map(plt.hist, 'FamIncome', bins=10)"
   ]
  },
  {
   "cell_type": "code",
   "execution_count": null,
   "metadata": {},
   "outputs": [],
   "source": [
    "# Target Viz: Pie Chart\n",
    "fig, ax = plt.subplots()\n",
    "plt.rcParams['font.sans-serif'] = 'Arial'\n",
    "plt.rcParams['font.family'] = 'sans-serif'\n",
    "plt.rcParams['text.color'] = '#909090'\n",
    "plt.rcParams['axes.labelcolor']= '#909090'\n",
    "plt.rcParams['xtick.color'] = '#909090'\n",
    "plt.rcParams['ytick.color'] = '#909090'\n",
    "plt.rcParams['font.size']=12\n",
    "labels = ['Bay Area / Silicon Valley', \n",
    "         'Non Bay Area / Silicon Valley']\n",
    "percentages = [91, 9]\n",
    "explode=(0.1,0)\n",
    "ax.pie(percentages, explode=explode, labels=labels,  \n",
    "       colors=color_palette_list[0:2], autopct='%1.0f%%', \n",
    "       shadow=False, startangle=0,   \n",
    "       pctdistance=1.2,labeldistance=1.4)\n",
    "ax.axis('equal')\n",
    "ax.set_title(\"Elephant in the Valley Survey Respondent Make-up\")\n",
    "ax.legend(frameon=False, bbox_to_anchor=(1.5,0.8))"
   ]
  },
  {
   "cell_type": "code",
   "execution_count": null,
   "metadata": {},
   "outputs": [],
   "source": [
    "# Feature Engineering?"
   ]
  },
  {
   "cell_type": "code",
   "execution_count": null,
   "metadata": {},
   "outputs": [],
   "source": [
    "# Use regularization (lasso) to find important features "
   ]
  },
  {
   "cell_type": "code",
   "execution_count": null,
   "metadata": {},
   "outputs": [],
   "source": [
    "# Check Multi-collinearity\n",
    "merge_df.corr()>.75"
   ]
  },
  {
   "cell_type": "code",
   "execution_count": null,
   "metadata": {},
   "outputs": [],
   "source": [
    "# Class imbalance\n"
   ]
  },
  {
   "cell_type": "code",
   "execution_count": null,
   "metadata": {},
   "outputs": [],
   "source": [
    "merge_df.describe\n",
    "# Chi-Sq\n",
    "# ANOVA"
   ]
  },
  {
   "cell_type": "code",
   "execution_count": null,
   "metadata": {},
   "outputs": [],
   "source": [
    "# Find P-values to eliminate features; chi-sq test, ANOVA"
   ]
  },
  {
   "cell_type": "markdown",
   "metadata": {},
   "source": [
    "#### Train Data, Train-Test Split"
   ]
  },
  {
   "cell_type": "code",
   "execution_count": null,
   "metadata": {},
   "outputs": [],
   "source": [
    "#pyspark\n",
    "# Data Modeling\n",
    "from sklearn.model_selection import train_test_split, GridSearchCV\n",
    "X_train, X_test, y_train, y_test = train_test_split(X, y, test_size = .3, random_state=1, stratify=y)"
   ]
  },
  {
   "cell_type": "markdown",
   "metadata": {},
   "source": [
    "## Find MVP"
   ]
  },
  {
   "cell_type": "markdown",
   "metadata": {},
   "source": [
    "#### Vanilla Model Fitting"
   ]
  },
  {
   "cell_type": "code",
   "execution_count": null,
   "metadata": {},
   "outputs": [],
   "source": [
    "# Decision Tree\n",
    "from sklearn.tree import DecisionTreeClassifier\n",
    "\n",
    "dtc = DecisionTreeClassifier()\n",
    "dtc.fit(X_train, y_train)\n",
    "dt_acc = round(dtc.score(X_train, y_train),3)\n",
    "dt_acc"
   ]
  },
  {
   "cell_type": "code",
   "execution_count": null,
   "metadata": {},
   "outputs": [],
   "source": [
    "# Logistic Regression\n",
    "log = LogisticRegression()\n",
    "\n",
    "log.fit(X_train,y_train)\n",
    "# Y_pred = logreg.predict(X_test)\n",
    "lr_acc = round(log.score(X_train,y_train),3)\n",
    "lr_acc"
   ]
  },
  {
   "cell_type": "code",
   "execution_count": null,
   "metadata": {},
   "outputs": [],
   "source": [
    "# Kernel SVM\n",
    "from sklearn.svm import SVC, LinearSVC\n",
    "sv = SVC()\n",
    "\n",
    "sv.fit(X_train,y_train)\n",
    "sv_acc = round(sv.score(X_train,y_train),3)\n",
    "sv_acc"
   ]
  },
  {
   "cell_type": "code",
   "execution_count": null,
   "metadata": {},
   "outputs": [],
   "source": [
    "# Random Forest\n",
    "rf = RandomForestClassifier()\n",
    "\n",
    "rf.fit(X_train,y_train)\n",
    "rf_acc = round(rf.score(X_train,y_train),3)\n",
    "rf_acc"
   ]
  },
  {
   "cell_type": "code",
   "execution_count": null,
   "metadata": {},
   "outputs": [],
   "source": [
    "# Neural Network"
   ]
  },
  {
   "cell_type": "code",
   "execution_count": null,
   "metadata": {},
   "outputs": [],
   "source": [
    "# Gradient Boosted Tree"
   ]
  }
 ],
 "metadata": {
  "kernelspec": {
   "display_name": "Python [conda env:root]",
   "language": "python",
   "name": "conda-root-py"
  },
  "language_info": {
   "codemirror_mode": {
    "name": "ipython",
    "version": 3
   },
   "file_extension": ".py",
   "mimetype": "text/x-python",
   "name": "python",
   "nbconvert_exporter": "python",
   "pygments_lexer": "ipython3",
   "version": "3.7.3"
  }
 },
 "nbformat": 4,
 "nbformat_minor": 4
}
